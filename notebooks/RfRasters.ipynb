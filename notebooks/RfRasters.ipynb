{
 "cells": [
  {
   "cell_type": "code",
   "execution_count": 2,
   "metadata": {},
   "outputs": [],
   "source": [
    "import arcpy\n",
    "import numpy as np\n",
    "import time\n",
    "\n",
    "DBPATH=r\"C:\\Users\\mike\\Documents\\OSU\\GEOG561\\Project - Florida Scrub Zone\\FL_Zone_9a_9b_Scrub_Incursion_Restoration\\FL_Zone_9a_9b_Scrub_Incursion_Restoration.gdb\"\n",
    "DATA_PATH=r\"C:\\Users\\mike\\Documents\\OSU\\GEOG561\\Project - Florida Scrub Zone\\Data\"\n",
    "\n",
    "arcpy.env.workspace=DBPATH\n",
    "\n",
    "\n",
    "demFile = r\"%s\\flidar_mosaic_m\\flidar_mosaic_m.gdb\\flidar_mosaic_m\" % DATA_PATH\n",
    "spatialRef = arcpy.Describe(demFile).spatialReference\n",
    "defaultGridSz = 15\n"
   ]
  },
  {
   "cell_type": "code",
   "execution_count": 62,
   "metadata": {},
   "outputs": [
    {
     "data": {
      "text/html": [
       "<h2>Output</h2>true<h2>Messages</h2>Start Time: Thursday, March 11, 2021 7:20:58 PM<br/>Succeeded at Thursday, March 11, 2021 7:20:58 PM (Elapsed Time: 0.48 seconds)<br/><style>.rendered_html td, .rendered_html th {text-align: left;}.rendered_html tbody {border: 1px solid black;}</style>"
      ],
      "text/plain": [
       "<Result 'true'>"
      ]
     },
     "execution_count": 62,
     "metadata": {},
     "output_type": "execute_result"
    }
   ],
   "source": [
    "#Create Extent Feature.  This is the overlay of the DRASTIC and Subsurface Geological Data\n",
    "waterTbl = r\"%s\\DRASTIC_for_the_Surficial_Aquifer\\DRASTIC_for_the_Surficial_Aquifer.shp\" % DATA_PATH\n",
    "subSurfaceGeog =  r\"%s\\FL_Soil_Geology\\FGS_STATEMAP_GEOLOGY.gdb\\FGS_STATEMAP_GEOLOGY\" % DATA_PATH\n",
    "\n",
    "#This will make sure we aren't selecting data from the panhandle\n",
    "initMaskExtent = \"404732.2623999994 334500.8658999996 697135.871199999 733658.6742000002\"\n",
    "\n",
    "#Get the intersection of the two\n",
    "with arcpy.EnvManager(outputCoordinateSystem=spatialRef, \n",
    "                                              parallelProcessingFactor=\"75%\", \n",
    "                                              extent=initMaskExtent):\n",
    "    arcpy.analysis.Intersect([subSurfaceGeog, 'zone9'], 'zoneGeog_isect', 'ONLY_FID')\n",
    "\n",
    "#Note: The extent gets reduced further...\n",
    "with arcpy.EnvManager(outputCoordinateSystem=spatialRef, \n",
    "                                              parallelProcessingFactor=\"75%\", \n",
    "                                              extent=\"MINOF\"):\n",
    "    arcpy.analysis.Intersect([waterTbl, 'zoneGeog_isect'], 'rfMaskFeature_isect', 'ONLY_FID') \n",
    "\n",
    "#Dissolve to remove boundaries for extent\n",
    "arcpy.management.Dissolve('rfMaskFeature_isect', 'rfMaskFeature')\n",
    "#Clean up\n",
    "arcpy.management.Delete(r\"'rfMaskFeature_isect'; 'zoneGeog_isect'\")\n",
    "arcpy.management.Delete(r\"'rfMaskFeature_isect'; 'zoneGeog_isect'\")\n",
    "\n"
   ]
  },
  {
   "cell_type": "code",
   "execution_count": 3,
   "metadata": {},
   "outputs": [],
   "source": [
    "#Get extent for future stuff\n",
    "desc = arcpy.Describe('rfMaskFeature')\n",
    "xmin = desc.extent.XMin\n",
    "xmax = desc.extent.XMax\n",
    "ymin = desc.extent.YMin\n",
    "ymax = desc.extent.YMax\n",
    "rfMaskExtent=\"%s %s %s %s\" % (xmin, ymin, xmax, ymax)"
   ]
  },
  {
   "cell_type": "code",
   "execution_count": 65,
   "metadata": {},
   "outputs": [],
   "source": [
    "#Create a snap raster/mask raster from the extent feature\n",
    "with arcpy.EnvManager(outputCoordinateSystem=spatialRef,\n",
    "                      pyramid=\"NONE\", \n",
    "                      cellSize=defaultGridSz):\n",
    "    arcpy.conversion.FeatureToRaster('rfMaskFeature', \"OBJECTID\", \"rfMaskRaster\", defaultGridSz)\n"
   ]
  },
  {
   "cell_type": "code",
   "execution_count": 19,
   "metadata": {},
   "outputs": [],
   "source": [
    "def fillRaster(inRaster):\n",
    "    \n",
    "    prop = arcpy.GetRasterProperties_management(inRaster, \"MINIMUM\")\n",
    "    minVal = int(prop.getOutput(0))\n",
    "    prop = arcpy.GetRasterProperties_management(inRaster, \"MAXIMUM\")\n",
    "    maxVal = int(prop.getOutput(0))\n",
    "    prop = arcpy.GetRasterProperties_management(inRaster, \"VALUETYPE\") \n",
    "    valType = int(prop.getOutput(0))\n",
    "\n",
    "    valueRange = {  0 : (0,1),\n",
    "                    1 : (0, 3),\n",
    "                    2 : (0, 15),\n",
    "                    3 : (0, 255),\n",
    "                    4 : (-128, 127),\n",
    "                    5 : (0, 65535),\n",
    "                    6 : (-32768, 32767),\n",
    "                    7 : (0, 42949672957),\n",
    "                    8 : (-2147483648, 21474836477),\n",
    "                    9 : (-3.402823466e+38 , 3.402823466e+38),\n",
    "                    10 : (0, 18446744073709551616)\n",
    "                 }\n",
    "    try:\n",
    "        minMax = valueRange[valType]\n",
    "    except:\n",
    "        print(\"This value %s is likely complex. Consider another way.\" % valType )\n",
    "\n",
    "\n",
    "    if minVal > minMax[0]:\n",
    "        nullValue = minMax[0]\n",
    "    elif maxVal < minMax[1]:\n",
    "        nullValue = minMax[1]\n",
    "    else:\n",
    "        nullValue = 0\n",
    "\n",
    "    print(\"Setting null values in raster %s to: %s\" % (inRaster, nullValue))    \n",
    "    \n",
    "    with arcpy.EnvManager(outputCoordinateSystem=spatialRef, extent=rfMaskExtent):\n",
    "        filledRaster = arcpy.sa.Con(arcpy.sa.IsNull(inRaster), nullValue, inRaster, \"Value = 1\")  \n",
    "\n",
    "    return filledRaster"
   ]
  },
  {
   "cell_type": "code",
   "execution_count": 22,
   "metadata": {},
   "outputs": [],
   "source": [
    "#Copy Raster Function.  This will copy a raster to the database with the defined paramters for the rf\n",
    "def rfCopyMaskedRaster(inRaster, outName):\n",
    "    filledRaster = fillRaster(inRaster)\n",
    "\n",
    "    with arcpy.EnvManager(outputCoordinateSystem=spatialRef, \n",
    "                      snapRaster='rfMaskRaster', \n",
    "                      cellSize='rfMaskRaster', \n",
    "                      mask=\"rfMaskRaster\"):\n",
    "        \n",
    "        maskedRaster = arcpy.sa.ExtractByMask(filledRaster, \"rfMaskRaster\");\n",
    "        maskedRaster.save(outName)        "
   ]
  },
  {
   "cell_type": "code",
   "execution_count": 120,
   "metadata": {},
   "outputs": [],
   "source": [
    "def update_subsurface_epoch():\n",
    "    infile=r\"%s\\FL_Soil_Geology\\FGS_STATEMAP_GEOLOGY.gdb\\FGS_STATEMAP_GEOLOGY\" % DATA_PATH\n",
    "    \n",
    "    arcpy.management.SelectLayerByAttribute(infile, \"CLEAR_SELECTION\")\n",
    "    \n",
    "    time.sleep(2)\n",
    "    \n",
    "    field=\"GEOLOGIC_HISTORY\"\n",
    "    \n",
    "    with arcpy.da.UpdateCursor(infile, (field,)) as cursor:\n",
    "        for row in cursor:\n",
    "            try:\n",
    "                row[0]=row[0].replace(\" \", \"\")\n",
    "                row[0]=row[0].upper()\n",
    "            except:\n",
    "                row[0]=\"\"\n",
    "\n",
    "            cursor.updateRow(row)\n",
    "    \n",
    "    arcpy.management.SelectLayerByAttribute(infile, \"CLEAR_SELECTION\")\n"
   ]
  },
  {
   "cell_type": "code",
   "execution_count": 100,
   "metadata": {},
   "outputs": [],
   "source": [
    "#This expands the lithology field in the FGS_STATEMAP_GEOLOGY feature and updates the table so \n",
    "# attributes can be mapped accurately\n",
    "#The original file only contains this information as a comma delimited list in an attribute field,\n",
    "# in natural languge, with mixed order, case, and plurality (e.g. \"shells, organic\" in one attribute\n",
    "# and then \"organics, Shell\" in another). This fixes the language for uniformity\n",
    "# and updates the table with binary indicators for the varous lithologites.\n",
    "\n",
    "def update_lithology_attributes():\n",
    "    infile=r\"%s\\FL_Soil_Geology\\FGS_STATEMAP_GEOLOGY.gdb\\FGS_STATEMAP_GEOLOGY\" % DATA_PATH\n",
    "    arcpy.management.SelectLayerByAttribute(infile, \"CLEAR_SELECTION\")\n",
    "\n",
    "    geogTbl = arcpy.da.TableToNumPyArray (infile, 'Lithology', skip_nulls=True)\n",
    "    lithos = set()\n",
    "\n",
    "    #Find the various lithologies and fix \n",
    "    for lithology in geogTbl[\"Lithology\"]:\n",
    "        try: \n",
    "            lithology = lithology.lower()\n",
    "            lithology = lithology.replace(\" \", \"\")\n",
    "            lithology = lithology.replace(\"s,\", \",\")\n",
    "            if lithology[-1] == 's': lithology = lithology[:-1]\n",
    "        except:\n",
    "            continue\n",
    "        \n",
    "        lithos = lithos | set(lithology.split(','))\n",
    "        \n",
    "    arcpy.management.SelectLayerByAttribute(infile, \"CLEAR_SELECTION\")\n",
    "\n",
    "    #should be {'organic', 'sand', 'phosphate', 'dolostone', 'shell', 'heavymineral', 'clay', 'limestone'}\n",
    "    print(\"Adding Fields:\",  lithos)\n",
    "\n",
    "    for litho in lithos:\n",
    "        arcpy.AddField_management(infile, litho, \"SHORT\")\n",
    "        print(\"Adding Field %s\" % litho)\n",
    "\n",
    "    fields=['Lithology']\n",
    "    fields.extend(list(lithos))\n",
    "\n",
    "    fieldMap = {fields[x] : x for x in range(len(fields))}\n",
    "    print(\"Mapping field indexes:\", fieldMap)\n",
    "    \n",
    "    with arcpy.da.UpdateCursor(infile, fields) as cursor:\n",
    "        for row in cursor:\n",
    "            print(\"Row in\", row)\n",
    "            try: \n",
    "                row[1:] = [0] * (len(row) - 1)\n",
    "\n",
    "                lithology = row[fieldMap['Lithology']] \n",
    "                lithology = lithology.lower()\n",
    "                lithology = lithology.replace(\" \", \"\")\n",
    "                lithology = lithology.replace(\"s,\", \",\")\n",
    "                if lithology[-1] == 's': lithology = lithology[:-1]\n",
    "\n",
    "            except:\n",
    "                cursor.updateRow(row)\n",
    "                continue\n",
    "\n",
    "\n",
    "            for soil in lithology.split(','):\n",
    "                row[fieldMap[soil]] = 1\n",
    "\n",
    "            print(\"Row out\", row)\n",
    "            #Update the cursor with the updated list\n",
    "            cursor.updateRow(row)\n",
    "\n",
    "    arcpy.management.SelectLayerByAttribute(infile, \"CLEAR_SELECTION\")\n"
   ]
  },
  {
   "cell_type": "code",
   "execution_count": 15,
   "metadata": {},
   "outputs": [],
   "source": [
    "#Copy Feature Function.  This will copy a reature to the database with the defined paramters for the rf\n",
    "def rfFeatureToRaster(inFeature, rasterField, outName):\n",
    "    tempFeature = \"%s_temp\" % outName\n",
    "    arcpy.management.Delete(tempFeature)\n",
    "\n",
    "    print(inFeature)\n",
    "    print(tempFeature)\n",
    "\n",
    "    #ArcGIS is acting weird, claiming features aren't \n",
    "    arcpy.management.SelectLayerByAttribute(inFeature, \"CLEAR_SELECTION\")\n",
    "\n",
    "    arcpy.analysis.Intersect([inFeature, 'rfMaskFeature'], tempFeature) \n",
    "    \n",
    "    with arcpy.EnvManager(outputCoordinateSystem=spatialRef, \n",
    "                      snapRaster=\"rfMaskRaster\", \n",
    "                      pyramid=\"NONE\", \n",
    "                      extent=\"DEFAULT\"):\n",
    "        \n",
    "        \n",
    "        arcpy.conversion.FeatureToRaster(tempFeature, rasterField, outName, defaultGridSz)\n",
    "    \n",
    "    arcpy.management.Delete(tempFeature)\n"
   ]
  },
  {
   "cell_type": "code",
   "execution_count": 87,
   "metadata": {},
   "outputs": [
    {
     "name": "stdout",
     "output_type": "stream",
     "text": [
      "Absense Sites: %s {'Mixed Hardwood Coniferous Swamps', 'Clearcut Wetland', 'Strand Swamp', 'Grazed Wetlands', 'Freshwater Tidal Marsh', 'Cypress/Hardwood Swamps', 'Non-vegetated Wetland', 'Isolated Freshwater Swamp', 'Depression Marsh', 'Basin Swamp', 'Marine', 'Slough Marsh', 'Dome Swamp', 'River Floodplain Lake/Swamp Lake', 'Isolated Freshwater Marsh', 'Impounded Swamp', 'Titi Swamp', 'Floodplain Swamp', 'Mixed Wetland Hardwoods', 'Other Coniferous Wetlands', 'Surf Zone', 'Marshes', 'Exotic Wetland Hardwoods', 'Other Hardwood Wetlands', 'Mixed Scrub-Shrub Wetland', 'Floodplain Marsh', 'Mangrove Swamp', 'Flatwoods/Prairie/Marsh Lake', 'Impounded Marsh', 'Freshwater Tidal Swamp', 'Bay Swamp', 'Cutthroat Seep', 'Salt Marsh', 'Cutthroat Grass Flatwoods', 'Basin Marsh', 'Glades Marsh'}\n"
     ]
    },
    {
     "data": {
      "text/html": [
       "<h2>Output</h2><table><tr><th>id</th><th>value</th></tr><tr><td>0</td><td>a Layer object</td></tr><tr><td>1</td><td>-1</td></tr></table><h2>Messages</h2>Start Time: Thursday, March 11, 2021 8:45:19 PM<br/>Succeeded at Thursday, March 11, 2021 8:45:19 PM (Elapsed Time: 0.11 seconds)<br/><style>.rendered_html td, .rendered_html th {text-align: left;}.rendered_html tbody {border: 1px solid black;}</style>"
      ],
      "text/plain": [
       "<Result 'CLC_v3_4_poly_Layer68'>"
      ]
     },
     "execution_count": 87,
     "metadata": {},
     "output_type": "execute_result"
    }
   ],
   "source": [
    "#Create Raster with Psudo-Absence Data for Scrub\n",
    "\n",
    "infile=r\"%s\\FL_Classified_Land_Cover.gdb\\CLC_v3_4_poly\" % DATA_PATH\n",
    "arcpy.management.SelectLayerByAttribute(infile, \"CLEAR_SELECTION\")\n",
    "\n",
    "polys = arcpy.da.TableToNumPyArray (infile, 'NAME_SITE', skip_nulls=True)\n",
    "\n",
    "\n",
    "\n",
    "listOfSites = list(np.unique(polys['NAME_SITE']))\n",
    "\n",
    "#Generate List of Absense Sites\n",
    "absenceSites = set()\n",
    "exludedTerms = [\"Marsh\", \"Swamp\", \"Marine\", \"Floodplain\", \"Wetland\", \"Surf\", \"Cutthroat\"]\n",
    "for exludedTerm in exludedTerms:\n",
    "    absenceSites = absenceSites | set([s for s in listOfSites if exludedTerm in s])\n",
    "\n",
    "print(\"Absense Sites:\", absenceSites)    \n",
    "    \n",
    "#Build SQL Query\n",
    "ppaSelQueary=\"\"\n",
    "for absenceSite in absenceSites:\n",
    "    ppaSelQueary = ppaSelQueary + str(\"NAME_SITE = \\'%s\\' Or \" % absenceSite)\n",
    "\n",
    "#Add Presense Data to Query    \n",
    "ppaSelQueary = ppaSelQueary + \"NAME_SITE = \\'Scrub\\'\"\n",
    "\n",
    "#Select by Attribute\n",
    "ppaScrub = arcpy.management.SelectLayerByAttribute(infile, \n",
    "                                    where_clause = ppaSelQueary)\n",
    "\n",
    "\n",
    "arcpy.analysis.Intersect([ppaScrub, 'zone9'], 'ppaScrubZone9')\n",
    "arcpy.management.Delete(ppaScrub)\n",
    "\n",
    "\n",
    "with arcpy.EnvManager(outputCoordinateSystem=spatialRef, extent=rfMaskExtent):\n",
    "     arcpy.gapro.OverlayLayers('ppaScrubZone9', \n",
    "                               'rfMaskFeature', \n",
    "                               'ppa_scrub_training_features', \n",
    "                               overlay_type = 'INTERSECT')\n",
    "\n",
    "\n",
    "####Cleanup\n",
    "arcpy.management.SelectLayerByAttribute(infile, \"CLEAR_SELECTION\")\n",
    "\n",
    "arcpy.AddField_management(infile, \"Presence\", \"SHORT\")\n",
    "\n",
    "with arcpy.da.UpdateCursor(infile, [\"NAME_SITE\", \"Presence\"]) as cursor:\n",
    "    for row in cursor:\n",
    "        if row[0] == \"Scrub\":\n",
    "            row[1] = 1;\n",
    "        else:\n",
    "            row[1] = 0;\n",
    "        \n",
    "        cursor.updateRow(row)\n"
   ]
  },
  {
   "cell_type": "code",
   "execution_count": 95,
   "metadata": {},
   "outputs": [
    {
     "name": "stdout",
     "output_type": "stream",
     "text": [
      "Status for training data\n",
      "Original Area 19676993400.453903 m^2\n",
      "Area after Masking 7618399431.353587 m^2\n",
      "Area of presence data in  387671294.5828786 m^2\n",
      "Original Area 19676993400.453903 m^2\n",
      "Percentage of original area after masking 38.71729423448324%\n",
      "Percentage of presence data in study area 5.0886186537741%\n"
     ]
    },
    {
     "data": {
      "text/html": [
       "<h2>Output</h2><table><tr><th>id</th><th>value</th></tr><tr><td>0</td><td>a Layer object</td></tr><tr><td>1</td><td>-1</td></tr></table><h2>Messages</h2>Start Time: Thursday, March 11, 2021 8:57:09 PM<br/>Succeeded at Thursday, March 11, 2021 8:57:09 PM (Elapsed Time: 0.03 seconds)<br/><style>.rendered_html td, .rendered_html th {text-align: left;}.rendered_html tbody {border: 1px solid black;}</style>"
      ],
      "text/plain": [
       "<Result 'ppaScrubZone9'>"
      ]
     },
     "execution_count": 95,
     "metadata": {},
     "output_type": "execute_result"
    }
   ],
   "source": [
    "print(\"Status for training data\")\n",
    "\n",
    "arcpy.management.SelectLayerByAttribute('ppa_scrub_training_features', \"CLEAR_SELECTION\")\n",
    "arcpy.management.SelectLayerByAttribute('ppaScrubZone9', \"CLEAR_SELECTION\")\n",
    "\n",
    "areas = arcpy.da.TableToNumPyArray ('ppaScrubZone9', 'SHAPE_Area', skip_nulls=True)\n",
    "originalDataArea = areas[\"SHAPE_Area\"].sum()\n",
    "print(\"Original Area %s m^2\"  % originalDataArea)\n",
    "\n",
    "areas = arcpy.da.TableToNumPyArray ('ppa_scrub_training_features', 'SHAPE_Area', skip_nulls=True)\n",
    "maskedDataArea = areas[\"SHAPE_Area\"].sum()\n",
    "print(\"Area after Masking %s m^2\"  % maskedDataArea)\n",
    "\n",
    "knownScrubZone9 = arcpy.management.SelectLayerByAttribute('ppa_scrub_training_features', \n",
    "                                                            where_clause = \"NAME_SITE = \\'Scrub\\'\")\n",
    "\n",
    "areas = arcpy.da.TableToNumPyArray (knownScrubZone9, 'SHAPE_Area', skip_nulls=True)\n",
    "presenceDataArea = areas[\"SHAPE_Area\"].sum()\n",
    "print(\"Area of presence data in  %s m^2\"  % presenceDataArea)\n",
    "\n",
    "knownScrubZone9Area = areas[\"SHAPE_Area\"].sum()\n",
    "print(\"Original Area %s m^2\"  % originalDataArea)\n",
    "\n",
    "maskedPct = 100 * (maskedDataArea/originalDataArea)\n",
    "print(\"Percentage of original area after masking %s%%\" % maskedPct)\n",
    "\n",
    "paRatio = 100 * (presenceDataArea/maskedDataArea)\n",
    "print(\"Percentage of presence data in study area %s%%\" % paRatio)\n",
    "\n",
    "arcpy.management.SelectLayerByAttribute('ppa_scrub_training_features', \"CLEAR_SELECTION\")\n",
    "arcpy.management.SelectLayerByAttribute('ppaScrubZone9', \"CLEAR_SELECTION\")\n"
   ]
  },
  {
   "cell_type": "code",
   "execution_count": 26,
   "metadata": {},
   "outputs": [
    {
     "name": "stdout",
     "output_type": "stream",
     "text": [
      "Setting null values in raster C:\\Users\\mike\\Documents\\OSU\\GEOG561\\Project - Florida Scrub Zone\\Data\\FL_Natural_Floodplain_v4_4\\Natural_Floodplain_v4_4\\floodpl_v44 to: 15\n",
      "Setting null values in raster C:\\Users\\mike\\Documents\\OSU\\GEOG561\\Project - Florida Scrub Zone\\Data\\FL_Significant_Surface_Waters\\Significant_Surface_Waters_v4_1\\surfwatr_v41 to: 15\n",
      "Setting null values in raster C:\\Users\\mike\\Documents\\OSU\\GEOG561\\Project - Florida Scrub Zone\\Data\\FL_Wetlands\\Functional_Wetlands_v4_4\\wetlands_v44 to: 15\n"
     ]
    }
   ],
   "source": [
    "#Create Clean Rasters from Raster\n",
    "rasters = []\n",
    "#rasters.append((r\"%s\\FL_Aquifer_Recharge\\Aquifer_Recharge_v4_1\\recharge_v41\" % DATA_PATH,\n",
    "#                  \"rf_aquifer_recharg\"))\n",
    "\n",
    "rasters.append((r\"%s\\FL_Natural_Floodplain_v4_4\\Natural_Floodplain_v4_4\\floodpl_v44\" % DATA_PATH, \n",
    "                  \"rf_floodplain\"))\n",
    "\n",
    "rasters.append((r\"%s\\FL_Significant_Surface_Waters\\Significant_Surface_Waters_v4_1\\surfwatr_v41\" % DATA_PATH,\n",
    "                  \"rf_surfaceWater\"))\n",
    "\n",
    "rasters.append((r\"%s\\FL_Wetlands\\Functional_Wetlands_v4_4\\wetlands_v44\" % DATA_PATH, \n",
    "                  \"rf_wetlands\"))\n",
    "\n",
    "#rasters.append((r\"%s\\flidar_mosaic_m\\flidar_mosaic_m.gdb\\flidar_mosaic_m\" % DATA_PATH, \n",
    "#                  \"rf_dem\"))\n",
    "\n",
    "for raster in rasters:\n",
    "    rfCopyMaskedRaster(raster[0], raster[1])\n",
    "    \n",
    "#Create Slope from Elevation.  This will take a few minutes.\n",
    "#out_raster = arcpy.sa.Slope('rf_dem', method = \"GEODESIC\")\n",
    "#out_raster.save('rf_slope')\n",
    "\n"
   ]
  },
  {
   "cell_type": "code",
   "execution_count": null,
   "metadata": {},
   "outputs": [],
   "source": [
    "#update_lithology_attributes()\n",
    "#update_subsurface_epoch()"
   ]
  },
  {
   "cell_type": "code",
   "execution_count": 16,
   "metadata": {},
   "outputs": [
    {
     "name": "stdout",
     "output_type": "stream",
     "text": [
      "C:\\Users\\mike\\Documents\\OSU\\GEOG561\\Project - Florida Scrub Zone\\Data\\FL_Soil_Geology\\FGS_STATEMAP_GEOLOGY.gdb\\FGS_STATEMAP_GEOLOGY\n",
      "rf_subsurface_geog_GEOLOGIC_HISTORY_temp\n",
      "C:\\Users\\mike\\Documents\\OSU\\GEOG561\\Project - Florida Scrub Zone\\Data\\FL_Soil_Geology\\FGS_STATEMAP_GEOLOGY.gdb\\FGS_STATEMAP_GEOLOGY\n",
      "rf_subsurface_geog_organic_temp\n",
      "C:\\Users\\mike\\Documents\\OSU\\GEOG561\\Project - Florida Scrub Zone\\Data\\FL_Soil_Geology\\FGS_STATEMAP_GEOLOGY.gdb\\FGS_STATEMAP_GEOLOGY\n",
      "rf_subsurface_geog_sand_temp\n",
      "C:\\Users\\mike\\Documents\\OSU\\GEOG561\\Project - Florida Scrub Zone\\Data\\FL_Soil_Geology\\FGS_STATEMAP_GEOLOGY.gdb\\FGS_STATEMAP_GEOLOGY\n",
      "rf_subsurface_geog_phosphate_temp\n",
      "C:\\Users\\mike\\Documents\\OSU\\GEOG561\\Project - Florida Scrub Zone\\Data\\FL_Soil_Geology\\FGS_STATEMAP_GEOLOGY.gdb\\FGS_STATEMAP_GEOLOGY\n",
      "rf_subsurface_geog_dolostone_temp\n",
      "C:\\Users\\mike\\Documents\\OSU\\GEOG561\\Project - Florida Scrub Zone\\Data\\FL_Soil_Geology\\FGS_STATEMAP_GEOLOGY.gdb\\FGS_STATEMAP_GEOLOGY\n",
      "rf_subsurface_geog_shell_temp\n",
      "C:\\Users\\mike\\Documents\\OSU\\GEOG561\\Project - Florida Scrub Zone\\Data\\FL_Soil_Geology\\FGS_STATEMAP_GEOLOGY.gdb\\FGS_STATEMAP_GEOLOGY\n",
      "rf_subsurface_geog_heavymineral_temp\n",
      "C:\\Users\\mike\\Documents\\OSU\\GEOG561\\Project - Florida Scrub Zone\\Data\\FL_Soil_Geology\\FGS_STATEMAP_GEOLOGY.gdb\\FGS_STATEMAP_GEOLOGY\n",
      "rf_subsurface_geog_clay_temp\n",
      "C:\\Users\\mike\\Documents\\OSU\\GEOG561\\Project - Florida Scrub Zone\\Data\\FL_Soil_Geology\\FGS_STATEMAP_GEOLOGY.gdb\\FGS_STATEMAP_GEOLOGY\n",
      "rf_subsurface_geog_limestone_temp\n",
      "C:\\Users\\mike\\Documents\\OSU\\GEOG561\\Project - Florida Scrub Zone\\Data/USDA_NRCS_Soils/nrcs_soils_sep18.shp\n",
      "rf_drainage_temp\n",
      "C:\\Users\\mike\\Documents\\OSU\\GEOG561\\Project - Florida Scrub Zone\\Data/USDA_NRCS_Soils/nrcs_soils_sep18.shp\n",
      "rf_top_soil_detail_temp\n",
      "C:\\Users\\mike\\Documents\\OSU\\GEOG561\\Project - Florida Scrub Zone\\Data\\USDA_FL_Soil\\spatial\\gsmsoilmu_a_fl.shp\n",
      "rf_top_soil_temp\n",
      "C:\\Users\\mike\\Documents\\OSU\\GEOG561\\Project - Florida Scrub Zone\\Data\\DRASTIC_for_the_Surficial_Aquifer\\DRASTIC_for_the_Surficial_Aquifer.shp\n",
      "rf_water_table_depth_temp\n"
     ]
    }
   ],
   "source": [
    "#Create Rasters from Features\n",
    "geog_infile=r\"%s\\FL_Soil_Geology\\FGS_STATEMAP_GEOLOGY.gdb\\FGS_STATEMAP_GEOLOGY\" % DATA_PATH\n",
    "\n",
    "geog_fields = ['GEOLOGIC_HISTORY', \n",
    "                   'organic', \n",
    "                   'sand', \n",
    "                   'phosphate', \n",
    "                   'dolostone', \n",
    "                   'shell', \n",
    "                   'heavymineral', \n",
    "                   'clay', \n",
    "                   'limestone']\n",
    "\n",
    "for geog_field in geog_fields:\n",
    "    rasterName=\"rf_subsurface_geog_%s\" % geog_field\n",
    "    rfFeatureToRaster(geog_infile, geog_field, rasterName)\n",
    "\n",
    "features=[]\n",
    "features.append((\"%s/USDA_NRCS_Soils/nrcs_soils_sep18.shp\" % DATA_PATH, \n",
    "                \"DRAINAGECL\", \n",
    "                \"rf_drainage\"))\n",
    "\n",
    "features.append((\"%s/USDA_NRCS_Soils/nrcs_soils_sep18.shp\" % DATA_PATH, \n",
    "                 \"MUKEY\", \n",
    "                 \"rf_top_soil_detail\"))\n",
    "\n",
    "\n",
    "features.append((r\"%s\\USDA_FL_Soil\\spatial\\gsmsoilmu_a_fl.shp\" % DATA_PATH, \n",
    "                \"MUKEY\", \n",
    "                \"rf_top_soil\"))\n",
    "\n",
    "features.append((r\"%s\\DRASTIC_for_the_Surficial_Aquifer\\DRASTIC_for_the_Surficial_Aquifer.shp\" % DATA_PATH, \n",
    "                 \"DW\", \n",
    "                 \"rf_water_table_depth\"))\n",
    "\n",
    "for feature in features:\n",
    "    rfFeatureToRaster(feature[0], feature[1], feature[2])\n",
    "\n",
    "\n",
    "\n",
    "    "
   ]
  },
  {
   "cell_type": "code",
   "execution_count": null,
   "metadata": {},
   "outputs": [],
   "source": [
    "geog_infile=r\"%s\\FL_Soil_Geology\\FGS_STATEMAP_GEOLOGY.gdb\\FGS_STATEMAP_GEOLOGY\" % DATA_PATH\n",
    "\n",
    "geog_fields = ['GEOLOGIC_HISTORY', \n",
    "                   'organic', \n",
    "                   'sand', \n",
    "                   'phosphate', \n",
    "                   'dolostone', \n",
    "                   'shell', \n",
    "                   'heavymineral', \n",
    "                   'clay', \n",
    "                   'limestone']\n",
    "\n",
    "    \n",
    "for geog_field in geog_fields:\n",
    "    rasterName=\"rf_subsurface_geog_%s\" % geog_field\n",
    "    rfFeatureToRaster(geog_infile, geog_field, rasterName)\n",
    "\n"
   ]
  },
  {
   "cell_type": "code",
   "execution_count": 113,
   "metadata": {},
   "outputs": [
    {
     "name": "stdout",
     "output_type": "stream",
     "text": [
      "FID\n",
      "Shape\n",
      "PERIMETER\n",
      "SETTING\n",
      "DW\n",
      "NR\n",
      "AM\n",
      "SM\n",
      "T\n",
      "IV\n",
      "HC\n",
      "DWV\n",
      "NRV\n",
      "AMV\n",
      "SMV\n",
      "TV\n",
      "IVV\n",
      "HCV\n",
      "INDEX_X\n",
      "OBJECTID\n",
      "DEP_DRASTI\n",
      "SHAPEAREA\n",
      "SHAPELEN\n"
     ]
    }
   ],
   "source": [
    "infile = r\"%s\\DRASTIC_for_the_Surficial_Aquifer\\DRASTIC_for_the_Surficial_Aquifer.shp\" % DATA_PATH\n",
    "\n",
    "for field in arcpy.ListFields(infile):\n",
    "    print(field.name)"
   ]
  },
  {
   "cell_type": "code",
   "execution_count": 51,
   "metadata": {},
   "outputs": [
    {
     "data": {
      "text/html": [
       "<h2>Output</h2>C:\\Users\\mike\\Documents\\OSU\\GEOG561\\Project - Florida Scrub Zone\\FL_Zone_9a_9b_Scrub_Incursion_Restoration\\FL_Zone_9a_9b_Scrub_Incursion_Restoration.gdb\\water_table_depth<h2>Messages</h2>Start Time: Tuesday, March 9, 2021 11:39:04 PM<br/>WARNING 000117: Warning empty output generated.<br/>Succeeded at Tuesday, March 9, 2021 11:39:07 PM (Elapsed Time: 3.07 seconds)<br/><style>.rendered_html td, .rendered_html th {text-align: left;}.rendered_html tbody {border: 1px solid black;}</style>"
      ],
      "text/plain": [
       "<Result 'C:\\\\Users\\\\mike\\\\Documents\\\\OSU\\\\GEOG561\\\\Project - Florida Scrub Zone\\\\FL_Zone_9a_9b_Scrub_Incursion_Restoration\\\\FL_Zone_9a_9b_Scrub_Incursion_Restoration.gdb\\\\water_table_depth'>"
      ]
     },
     "execution_count": 51,
     "metadata": {},
     "output_type": "execute_result"
    }
   ],
   "source": [
    "#Create water table depth raster\n",
    "infile=r\"%s\\DRASTIC_for_the_Surficial_Aquifer\\DRASTIC_for_the_Surficial_Aquifer.shp\" % DATA_PATH\n",
    "arcpy.management.SelectLayerByAttribute(infile, \"CLEAR_SELECTION\")\n",
    "\n",
    "arcpy.conversion.FeatureToRaster(infile, \"DW\", \"water_table_depth\", 15)"
   ]
  },
  {
   "cell_type": "code",
   "execution_count": 125,
   "metadata": {},
   "outputs": [],
   "source": [
    "arcpy.AddField_management(\"ppa_scrub_training_features\", \"Presence\", \"SHORT\")\n",
    "\n",
    "with arcpy.da.UpdateCursor(\"ppa_scrub_training_features\", [\"NAME_SITE\", \"Presence\"]) as cursor:\n",
    "    for row in cursor:\n",
    "        if row[0] == \"Scrub\":\n",
    "            row[1] = 1;\n",
    "        else:\n",
    "            row[1] = 0;\n",
    "        \n",
    "        cursor.updateRow(row)\n"
   ]
  },
  {
   "cell_type": "code",
   "execution_count": null,
   "metadata": {},
   "outputs": [],
   "source": []
  }
 ],
 "metadata": {
  "kernelspec": {
   "display_name": "ArcGISPro",
   "language": "Python",
   "name": "python3"
  },
  "language_info": {
   "file_extension": ".py",
   "name": "python",
   "version": "3"
  }
 },
 "nbformat": 4,
 "nbformat_minor": 2
}
