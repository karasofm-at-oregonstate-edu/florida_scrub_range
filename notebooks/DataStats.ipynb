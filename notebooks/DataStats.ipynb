{
 "cells": [
  {
   "cell_type": "code",
   "execution_count": null,
   "metadata": {},
   "outputs": [],
   "source": [
    "#Code for FL_Zone_9a_9b_Scrub_Incursion_Restoratoin Project \n",
    "#Statistical Analysis of Point Clustering\n",
    "#GEOG561\n",
    "#Mike Karasoff\n",
    "\n",
    "import arcpy\n",
    "import numpy as np\n",
    "import pandas as pd\n",
    "import matplotlib.pyplot as plt\n",
    "\n",
    "DBPATH=r\"C:\\Users\\mike\\Documents\\OSU\\GEOG561\\Project - Florida Scrub Zone\\FL_Zone_9a_9b_Scrub_Incursion_Restoration\\FL_Zone_9a_9b_Scrub_Incursion_Restoration.gdb\"\n",
    "arcpy.env.workspace=DBPATH"
   ]
  },
  {
   "cell_type": "code",
   "execution_count": null,
   "metadata": {},
   "outputs": [],
   "source": [
    "knownScrubSpeciesObs = numpy.asarray(arcpy.da.TableToNumPyArray('csKnownScrubZone9', 'species').tolist()).flatten()\n",
    "knownScrubSpeciesObsHist = (pd.Series(knownScrubSpeciesObs).value_counts())\n",
    "knownScrubSpeciesObsHist"
   ]
  },
  {
   "cell_type": "code",
   "execution_count": null,
   "metadata": {},
   "outputs": [],
   "source": [
    "knownScrubSpeciesObsHistP = knownScrubSpeciesObsHist/len(knownScrubSpeciesObs)\n",
    "knownScrubSpeciesObsHistP.plot(kind='bar')\n",
    "plt.hlines((.01, .02, .03, .04, .05, .06), 0, 1000)\n",
    "plt.title(\"Citizen Science Observations in Known Scrub Areas, Total Observations: %s\" % len(knownScrubSpeciesObs)) \n",
    "plt.show()"
   ]
  },
  {
   "cell_type": "code",
   "execution_count": null,
   "metadata": {},
   "outputs": [],
   "source": [
    "clusterIds = numpy.asarray(arcpy.da.TableToNumPyArray('csScrubPlantsZone9Communities_poly', 'CLUSTER_ID').tolist()).flatten()\n",
    "clusterIds"
   ]
  },
  {
   "cell_type": "code",
   "execution_count": null,
   "metadata": {},
   "outputs": [],
   "source": [
    "#This takes a few min to run.\n",
    "plantCommunities = arcpy.da.TableToNumPyArray('csScrubPlantsZone9Communities',  ('CLUSTER_ID','species'))\n",
    "\n",
    "plantCommunities_df = pd.DataFrame(plantCommunities)\n",
    "plantCommunityHists = {}\n",
    "plantCommunity = {}\n",
    "for cluster_id in clusterIds:\n",
    "    plantCommunity[cluster_id] = plantCommunities_df.loc[plantCommunities_df['CLUSTER_ID']==cluster_id]\n",
    "    plantCommunityHists[cluster_id] = plantCommunity[cluster_id].value_counts()"
   ]
  },
  {
   "cell_type": "code",
   "execution_count": null,
   "metadata": {},
   "outputs": [],
   "source": [
    "for cluster_id in clusterIds:\n",
    "    plantCommunityHists[cluster_id].plot(kind='bar')\n",
    "    plt.title(\"Distribution of Citizen Science Observations in Cluster %s\" % cluster_id) \n",
    "    plt.subplots_adjust(bottom=.5)\n",
    "    plt.show()   \n"
   ]
  },
  {
   "cell_type": "code",
   "execution_count": null,
   "metadata": {},
   "outputs": [],
   "source": [
    "contigency = pd.crosstab(plantCommunities_df['CLUSTER_ID'], plantCommunities_df['species'])\n"
   ]
  },
  {
   "cell_type": "code",
   "execution_count": null,
   "metadata": {
    "scrolled": true
   },
   "outputs": [],
   "source": [
    "import scipy\n",
    "from scipy import stats\n",
    "alpha =  .2\n",
    "\n",
    "stat, p, dof, expected = scipy.stats.chi2_contingency(contigency)\n",
    "print(\"stat, p, dof\")\n",
    "print(stat, p, dof)\n",
    "\n",
    "\n",
    "if p <= alpha:\n",
    "    print('reject H0')\n",
    "else:\n",
    "    print('fail to reject H0')\n"
   ]
  },
  {
   "cell_type": "code",
   "execution_count": null,
   "metadata": {},
   "outputs": [],
   "source": [
    "scipy.stats.chi2.ppf(.8, 341)"
   ]
  },
  {
   "cell_type": "code",
   "execution_count": null,
   "metadata": {},
   "outputs": [],
   "source": [
    "plants=list(np.unique(knownScrubSpeciesObs))\n",
    "plants"
   ]
  },
  {
   "cell_type": "code",
   "execution_count": null,
   "metadata": {},
   "outputs": [],
   "source": [
    "knownScrubSpeciesObsSub=np.random.choice(knownScrubSpeciesObs, int(len(knownScrubSpeciesObs)*.3))"
   ]
  },
  {
   "cell_type": "code",
   "execution_count": null,
   "metadata": {},
   "outputs": [],
   "source": [
    "knownScrubSpeciesObsSub"
   ]
  },
  {
   "cell_type": "code",
   "execution_count": null,
   "metadata": {},
   "outputs": [],
   "source": [
    "knownScrubSpeciesObsHist = numpy.histogram(knownScrubSpeciesObsSub, bins=plants)"
   ]
  },
  {
   "cell_type": "code",
   "execution_count": null,
   "metadata": {},
   "outputs": [],
   "source": [
    "plantCommunitiesHist = {}\n",
    "alpha =  .2\n",
    "\n",
    "print(\"cluster_id, stat, p, dof, alpha, result\")\n",
    "\n",
    "for cluster_id in clusterIds:\n",
    "    plantCommunitiesHist[cluster_id] = numpy.histogram(plantCommunities_df.loc[plantCommunities_df['CLUSTER_ID']==cluster_id]['species'], \n",
    "                        bins=plants)\n",
    "   \n",
    "    dof = len(knownScrubSpeciesObsHist[0]) - 1 \n",
    "    stat, p = scipy.stats.chisquare(plantCommunitiesHist[cluster_id][0], knownScrubSpeciesObsHist[0])\n",
    "    \n",
    "    if p <= alpha:\n",
    "        result = 'reject H0'\n",
    "    else:\n",
    "        result = 'fail to reject H0'\n",
    "\n",
    "    print(\"%s, %s, %s, %s, %s, %s\" % (cluster_id, stat, p, dof, alpha, result))\n"
   ]
  },
  {
   "cell_type": "code",
   "execution_count": null,
   "metadata": {},
   "outputs": [],
   "source": [
    "for cluster_id in clusterIds:\n",
    "    print(plantCommunitiesHist[cluster_id])"
   ]
  },
  {
   "cell_type": "code",
   "execution_count": null,
   "metadata": {},
   "outputs": [],
   "source": []
  }
 ],
 "metadata": {
  "kernelspec": {
   "display_name": "ArcGISPro",
   "language": "Python",
   "name": "python3"
  },
  "language_info": {
   "file_extension": ".py",
   "name": "python",
   "version": "3"
  }
 },
 "nbformat": 4,
 "nbformat_minor": 2
}
