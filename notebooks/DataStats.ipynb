{
 "cells": [
  {
   "cell_type": "code",
   "execution_count": 1,
   "metadata": {},
   "outputs": [],
   "source": [
    "import arcpy\n",
    "import numpy as np\n",
    "import pandas as pd\n",
    "import matplotlib.pyplot as plt\n",
    "\n",
    "DBPATH=r\"C:\\Users\\mike\\Documents\\OSU\\GEOG561\\Project - Florida Scrub Zone\\FL_Zone_9a_9b_Scrub_Incursion_Restoration\\FL_Zone_9a_9b_Scrub_Incursion_Restoration.gdb\"\n",
    "arcpy.env.workspace=DBPATH"
   ]
  },
  {
   "cell_type": "code",
   "execution_count": 2,
   "metadata": {},
   "outputs": [
    {
     "data": {
      "text/plain": [
       "Serenoa repens            82\n",
       "Palafoxia feayi           80\n",
       "Ceratiola ericoides       75\n",
       "Quercus geminata          68\n",
       "Ximenia americana         66\n",
       "Lyonia ferruginea         59\n",
       "Asclepias tuberosa        59\n",
       "Pinus clausa              56\n",
       "Opuntia humifusa          55\n",
       "Balduina angustifolia     54\n",
       "Quercus myrtifolia        49\n",
       "Vaccinium myrsinites      48\n",
       "Hypericum tenuifolium     47\n",
       "Bejaria racemosa          45\n",
       "Quercus chapmanii         43\n",
       "Pityopsis graminifolia    42\n",
       "Persea humilis            35\n",
       "Commelina erecta          34\n",
       "Polygonella robusta       31\n",
       "Carya floridana           31\n",
       "Piloblephis rigida        31\n",
       "Licania michauxii         29\n",
       "Quercus inopina           26\n",
       "Lyonia fruticosa          26\n",
       "Dalea feayi               24\n",
       "Yucca filamentosa         24\n",
       "Ilex opaca                24\n",
       "Sabal etonia              23\n",
       "Asimina obovata           22\n",
       "Cartrema floridana        13\n",
       "Vaccinium darrowii        12\n",
       "Chrysopsis floridana      11\n",
       "Conradina grandiflora      9\n",
       "Trichostema dichotomum     5\n",
       "Zamia integrifolia         5\n",
       "dtype: int64"
      ]
     },
     "execution_count": 2,
     "metadata": {},
     "output_type": "execute_result"
    }
   ],
   "source": [
    "knownScrubSpeciesObs = numpy.asarray(arcpy.da.TableToNumPyArray('csKnownScrubZone9', 'species').tolist()).flatten()\n",
    "knownScrubSpeciesObsHist = (pd.Series(knownScrubSpeciesObs).value_counts())\n",
    "knownScrubSpeciesObsHist"
   ]
  },
  {
   "cell_type": "code",
   "execution_count": null,
   "metadata": {},
   "outputs": [
    {
     "name": "stderr",
     "output_type": "stream",
     "text": [
      "C:\\Program Files\\ArcGIS\\Pro\\bin\\Python\\envs\\arcgispro-py3\\lib\\site-packages\\pandas\\plotting\\_matplotlib\\core.py:328: UserWarning: Starting a Matplotlib GUI outside of the main thread will likely fail.\n",
      "  fig = self.plt.figure(figsize=self.figsize)\n",
      "D66140B0-0277-45FF-AE18-A787BE3D4AAF:5: UserWarning: Starting a Matplotlib GUI outside of the main thread will likely fail.\n"
     ]
    }
   ],
   "source": [
    "knownScrubSpeciesObsHistP = knownScrubSpeciesObsHist/len(knownScrubSpeciesObs)\n",
    "knownScrubSpeciesObsHistP.plot(kind='bar')\n",
    "plt.hlines((.01, .02, .03, .04, .05, .06), 0, 1000)\n",
    "plt.title(\"Citizen Science Observations in Known Scrub Areas, Total Observations: %s\" % len(knownScrubSpeciesObs)) \n",
    "plt.show()"
   ]
  },
  {
   "cell_type": "code",
   "execution_count": 3,
   "metadata": {},
   "outputs": [
    {
     "data": {
      "text/plain": [
       "array([ 1,  2,  3,  4,  5,  6,  7,  8,  9, 10, 11, 12])"
      ]
     },
     "execution_count": 3,
     "metadata": {},
     "output_type": "execute_result"
    }
   ],
   "source": [
    "clusterIds = numpy.asarray(arcpy.da.TableToNumPyArray('csScrubPlantsZone9Communities_poly', 'CLUSTER_ID').tolist()).flatten()\n",
    "clusterIds"
   ]
  },
  {
   "cell_type": "code",
   "execution_count": 4,
   "metadata": {},
   "outputs": [],
   "source": [
    "#This takes a few min to run.\n",
    "plantCommunities = arcpy.da.TableToNumPyArray('csScrubPlantsZone9Communities',  ('CLUSTER_ID','species'))\n",
    "\n",
    "plantCommunities_df = pd.DataFrame(plantCommunities)\n",
    "plantCommunityHists = {}\n",
    "plantCommunity = {}\n",
    "for cluster_id in clusterIds:\n",
    "    plantCommunity[cluster_id] = plantCommunities_df.loc[plantCommunities_df['CLUSTER_ID']==cluster_id]\n",
    "    plantCommunityHists[cluster_id] = plantCommunity[cluster_id].value_counts()"
   ]
  },
  {
   "cell_type": "code",
   "execution_count": 5,
   "metadata": {},
   "outputs": [],
   "source": [
    "for cluster_id in clusterIds:\n",
    "    plantCommunityHists[cluster_id].plot(kind='bar')\n",
    "    plt.title(\"Distribution of Citizen Science Observations in Cluster %s\" % cluster_id) \n",
    "    plt.subplots_adjust(bottom=.5)\n",
    "    plt.show()   \n"
   ]
  },
  {
   "cell_type": "code",
   "execution_count": 6,
   "metadata": {},
   "outputs": [],
   "source": [
    "contigency = pd.crosstab(plantCommunities_df['CLUSTER_ID'], plantCommunities_df['species'])\n"
   ]
  },
  {
   "cell_type": "code",
   "execution_count": 9,
   "metadata": {
    "scrolled": true
   },
   "outputs": [
    {
     "name": "stdout",
     "output_type": "stream",
     "text": [
      "stat, p, dof\n",
      "1512.825711521683 6.433374686196485e-147 341\n",
      "reject H0\n"
     ]
    }
   ],
   "source": [
    "import scipy\n",
    "from scipy import stats\n",
    "alpha =  .2\n",
    "\n",
    "stat, p, dof, expected = scipy.stats.chi2_contingency(contigency)\n",
    "print(\"stat, p, dof\")\n",
    "print(stat, p, dof)\n",
    "\n",
    "\n",
    "if p <= alpha:\n",
    "    print('reject H0')\n",
    "else:\n",
    "    print('fail to reject H0')\n"
   ]
  },
  {
   "cell_type": "code",
   "execution_count": 11,
   "metadata": {},
   "outputs": [
    {
     "data": {
      "text/plain": [
       "362.76220277757153"
      ]
     },
     "execution_count": 11,
     "metadata": {},
     "output_type": "execute_result"
    }
   ],
   "source": [
    "scipy.stats.chi2.ppf(.8, 341)"
   ]
  },
  {
   "cell_type": "code",
   "execution_count": 12,
   "metadata": {},
   "outputs": [
    {
     "data": {
      "text/plain": [
       "['Asclepias tuberosa', 'Asimina obovata', 'Balduina angustifolia', 'Bejaria racemosa', 'Cartrema floridana', 'Carya floridana', 'Ceratiola ericoides', 'Chrysopsis floridana', 'Commelina erecta', 'Conradina grandiflora', 'Dalea feayi', 'Hypericum tenuifolium', 'Ilex opaca', 'Licania michauxii', 'Lyonia ferruginea', 'Lyonia fruticosa', 'Opuntia humifusa', 'Palafoxia feayi', 'Persea humilis', 'Piloblephis rigida', 'Pinus clausa', 'Pityopsis graminifolia', 'Polygonella robusta', 'Quercus chapmanii', 'Quercus geminata', 'Quercus inopina', 'Quercus myrtifolia', 'Sabal etonia', 'Serenoa repens', 'Trichostema dichotomum', 'Vaccinium darrowii', 'Vaccinium myrsinites', 'Ximenia americana', 'Yucca filamentosa', 'Zamia integrifolia']"
      ]
     },
     "execution_count": 12,
     "metadata": {},
     "output_type": "execute_result"
    }
   ],
   "source": [
    "plants=list(np.unique(knownScrubSpeciesObs))\n",
    "plants"
   ]
  },
  {
   "cell_type": "code",
   "execution_count": 13,
   "metadata": {},
   "outputs": [],
   "source": [
    "knownScrubSpeciesObsSub=np.random.choice(knownScrubSpeciesObs, int(len(knownScrubSpeciesObs)*.3))"
   ]
  },
  {
   "cell_type": "code",
   "execution_count": 14,
   "metadata": {},
   "outputs": [
    {
     "data": {
      "text/plain": [
       "array(['Balduina angustifolia', 'Lyonia ferruginea', 'Serenoa repens',\n",
       "       'Hypericum tenuifolium', 'Quercus geminata', 'Licania michauxii',\n",
       "       'Ximenia americana', 'Asclepias tuberosa', 'Hypericum tenuifolium',\n",
       "       'Dalea feayi', 'Piloblephis rigida', 'Dalea feayi',\n",
       "       'Serenoa repens', 'Balduina angustifolia', 'Serenoa repens',\n",
       "       'Opuntia humifusa', 'Polygonella robusta', 'Persea humilis',\n",
       "       'Hypericum tenuifolium', 'Lyonia ferruginea', 'Lyonia ferruginea',\n",
       "       'Persea humilis', 'Ceratiola ericoides', 'Asimina obovata',\n",
       "       'Carya floridana', 'Ximenia americana', 'Serenoa repens',\n",
       "       'Yucca filamentosa', 'Ximenia americana', 'Pinus clausa',\n",
       "       'Ceratiola ericoides', 'Quercus myrtifolia', 'Dalea feayi',\n",
       "       'Licania michauxii', 'Balduina angustifolia', 'Opuntia humifusa',\n",
       "       'Balduina angustifolia', 'Licania michauxii',\n",
       "       'Conradina grandiflora', 'Lyonia ferruginea', 'Ximenia americana',\n",
       "       'Licania michauxii', 'Balduina angustifolia', 'Vaccinium darrowii',\n",
       "       'Serenoa repens', 'Zamia integrifolia', 'Balduina angustifolia',\n",
       "       'Ximenia americana', 'Conradina grandiflora', 'Serenoa repens',\n",
       "       'Pityopsis graminifolia', 'Lyonia fruticosa', 'Serenoa repens',\n",
       "       'Ximenia americana', 'Ximenia americana', 'Ceratiola ericoides',\n",
       "       'Quercus geminata', 'Opuntia humifusa', 'Sabal etonia',\n",
       "       'Serenoa repens', 'Ceratiola ericoides', 'Vaccinium myrsinites',\n",
       "       'Opuntia humifusa', 'Quercus geminata', 'Quercus geminata',\n",
       "       'Lyonia ferruginea', 'Carya floridana', 'Pityopsis graminifolia',\n",
       "       'Serenoa repens', 'Hypericum tenuifolium', 'Ximenia americana',\n",
       "       'Opuntia humifusa', 'Balduina angustifolia', 'Commelina erecta',\n",
       "       'Asclepias tuberosa', 'Polygonella robusta', 'Lyonia ferruginea',\n",
       "       'Quercus geminata', 'Pinus clausa', 'Serenoa repens',\n",
       "       'Palafoxia feayi', 'Quercus chapmanii', 'Ceratiola ericoides',\n",
       "       'Palafoxia feayi', 'Persea humilis', 'Vaccinium darrowii',\n",
       "       'Opuntia humifusa', 'Serenoa repens', 'Serenoa repens',\n",
       "       'Quercus inopina', 'Serenoa repens', 'Polygonella robusta',\n",
       "       'Vaccinium myrsinites', 'Opuntia humifusa',\n",
       "       'Hypericum tenuifolium', 'Piloblephis rigida',\n",
       "       'Asclepias tuberosa', 'Palafoxia feayi', 'Palafoxia feayi',\n",
       "       'Piloblephis rigida', 'Ceratiola ericoides', 'Asclepias tuberosa',\n",
       "       'Yucca filamentosa', 'Pinus clausa', 'Piloblephis rigida',\n",
       "       'Pityopsis graminifolia', 'Sabal etonia', 'Hypericum tenuifolium',\n",
       "       'Piloblephis rigida', 'Cartrema floridana', 'Commelina erecta',\n",
       "       'Bejaria racemosa', 'Serenoa repens', 'Hypericum tenuifolium',\n",
       "       'Palafoxia feayi', 'Polygonella robusta', 'Balduina angustifolia',\n",
       "       'Ilex opaca', 'Licania michauxii', 'Lyonia ferruginea',\n",
       "       'Quercus inopina', 'Vaccinium darrowii', 'Palafoxia feayi',\n",
       "       'Lyonia ferruginea', 'Ceratiola ericoides', 'Quercus geminata',\n",
       "       'Persea humilis', 'Asclepias tuberosa', 'Ceratiola ericoides',\n",
       "       'Balduina angustifolia', 'Ceratiola ericoides',\n",
       "       'Ximenia americana', 'Palafoxia feayi', 'Palafoxia feayi',\n",
       "       'Pityopsis graminifolia', 'Vaccinium myrsinites',\n",
       "       'Asclepias tuberosa', 'Opuntia humifusa', 'Ceratiola ericoides',\n",
       "       'Piloblephis rigida', 'Persea humilis', 'Serenoa repens',\n",
       "       'Hypericum tenuifolium', 'Opuntia humifusa', 'Pinus clausa',\n",
       "       'Polygonella robusta', 'Trichostema dichotomum',\n",
       "       'Balduina angustifolia', 'Hypericum tenuifolium',\n",
       "       'Quercus inopina', 'Bejaria racemosa', 'Palafoxia feayi',\n",
       "       'Bejaria racemosa', 'Quercus geminata', 'Yucca filamentosa',\n",
       "       'Quercus chapmanii', 'Bejaria racemosa', 'Lyonia ferruginea',\n",
       "       'Ceratiola ericoides', 'Ceratiola ericoides', 'Commelina erecta',\n",
       "       'Balduina angustifolia', 'Balduina angustifolia', 'Persea humilis',\n",
       "       'Polygonella robusta', 'Lyonia ferruginea', 'Asclepias tuberosa',\n",
       "       'Hypericum tenuifolium', 'Quercus inopina', 'Piloblephis rigida',\n",
       "       'Persea humilis', 'Dalea feayi', 'Persea humilis',\n",
       "       'Pityopsis graminifolia', 'Quercus geminata', 'Commelina erecta',\n",
       "       'Lyonia fruticosa', 'Quercus geminata', 'Asclepias tuberosa',\n",
       "       'Cartrema floridana', 'Balduina angustifolia', 'Ximenia americana',\n",
       "       'Ceratiola ericoides', 'Palafoxia feayi', 'Yucca filamentosa',\n",
       "       'Ximenia americana', 'Hypericum tenuifolium', 'Persea humilis',\n",
       "       'Palafoxia feayi', 'Pinus clausa', 'Balduina angustifolia',\n",
       "       'Pinus clausa', 'Palafoxia feayi', 'Asclepias tuberosa',\n",
       "       'Licania michauxii', 'Quercus chapmanii', 'Ximenia americana',\n",
       "       'Balduina angustifolia', 'Balduina angustifolia',\n",
       "       'Lyonia ferruginea', 'Palafoxia feayi', 'Commelina erecta',\n",
       "       'Quercus myrtifolia', 'Vaccinium myrsinites', 'Quercus geminata',\n",
       "       'Hypericum tenuifolium', 'Quercus geminata', 'Sabal etonia',\n",
       "       'Serenoa repens', 'Quercus chapmanii', 'Dalea feayi',\n",
       "       'Lyonia fruticosa', 'Vaccinium myrsinites',\n",
       "       'Pityopsis graminifolia', 'Bejaria racemosa',\n",
       "       'Conradina grandiflora', 'Lyonia fruticosa', 'Persea humilis',\n",
       "       'Commelina erecta', 'Dalea feayi', 'Quercus myrtifolia',\n",
       "       'Quercus myrtifolia', 'Pinus clausa', 'Ilex opaca',\n",
       "       'Vaccinium myrsinites', 'Pityopsis graminifolia',\n",
       "       'Palafoxia feayi', 'Ceratiola ericoides', 'Quercus myrtifolia',\n",
       "       'Yucca filamentosa', 'Asclepias tuberosa', 'Asclepias tuberosa',\n",
       "       'Cartrema floridana', 'Lyonia ferruginea', 'Palafoxia feayi',\n",
       "       'Vaccinium myrsinites', 'Cartrema floridana',\n",
       "       'Balduina angustifolia', 'Carya floridana', 'Dalea feayi',\n",
       "       'Hypericum tenuifolium', 'Palafoxia feayi', 'Palafoxia feayi',\n",
       "       'Lyonia ferruginea', 'Dalea feayi', 'Vaccinium darrowii',\n",
       "       'Serenoa repens', 'Hypericum tenuifolium',\n",
       "       'Pityopsis graminifolia', 'Lyonia ferruginea', 'Pinus clausa',\n",
       "       'Serenoa repens', 'Chrysopsis floridana', 'Ceratiola ericoides',\n",
       "       'Serenoa repens', 'Licania michauxii', 'Pinus clausa',\n",
       "       'Asclepias tuberosa', 'Cartrema floridana', 'Quercus myrtifolia',\n",
       "       'Ceratiola ericoides', 'Palafoxia feayi', 'Pinus clausa',\n",
       "       'Serenoa repens', 'Opuntia humifusa', 'Pinus clausa',\n",
       "       'Yucca filamentosa', 'Asimina obovata', 'Serenoa repens',\n",
       "       'Asimina obovata', 'Quercus inopina', 'Persea humilis',\n",
       "       'Pinus clausa', 'Sabal etonia', 'Commelina erecta',\n",
       "       'Balduina angustifolia', 'Vaccinium myrsinites',\n",
       "       'Quercus geminata', 'Quercus geminata', 'Lyonia ferruginea',\n",
       "       'Serenoa repens', 'Palafoxia feayi', 'Carya floridana',\n",
       "       'Trichostema dichotomum', 'Quercus myrtifolia', 'Opuntia humifusa',\n",
       "       'Ceratiola ericoides', 'Palafoxia feayi', 'Ceratiola ericoides',\n",
       "       'Ximenia americana', 'Quercus chapmanii', 'Palafoxia feayi',\n",
       "       'Quercus geminata', 'Vaccinium myrsinites', 'Opuntia humifusa',\n",
       "       'Pityopsis graminifolia', 'Commelina erecta', 'Carya floridana',\n",
       "       'Asclepias tuberosa', 'Palafoxia feayi', 'Balduina angustifolia',\n",
       "       'Cartrema floridana', 'Polygonella robusta', 'Bejaria racemosa',\n",
       "       'Palafoxia feayi', 'Sabal etonia', 'Ilex opaca', 'Serenoa repens',\n",
       "       'Quercus geminata', 'Vaccinium darrowii', 'Yucca filamentosa',\n",
       "       'Yucca filamentosa', 'Pinus clausa', 'Quercus chapmanii',\n",
       "       'Sabal etonia', 'Asclepias tuberosa', 'Dalea feayi',\n",
       "       'Balduina angustifolia', 'Hypericum tenuifolium',\n",
       "       'Yucca filamentosa', 'Lyonia ferruginea', 'Balduina angustifolia',\n",
       "       'Hypericum tenuifolium', 'Piloblephis rigida', 'Ximenia americana',\n",
       "       'Vaccinium darrowii', 'Commelina erecta', 'Asimina obovata',\n",
       "       'Yucca filamentosa', 'Quercus chapmanii', 'Asclepias tuberosa',\n",
       "       'Balduina angustifolia', 'Dalea feayi', 'Asclepias tuberosa',\n",
       "       'Ceratiola ericoides', 'Pityopsis graminifolia',\n",
       "       'Bejaria racemosa', 'Vaccinium myrsinites', 'Ximenia americana',\n",
       "       'Pityopsis graminifolia', 'Quercus geminata', 'Commelina erecta',\n",
       "       'Ximenia americana', 'Pinus clausa', 'Dalea feayi',\n",
       "       'Persea humilis', 'Quercus geminata', 'Dalea feayi',\n",
       "       'Hypericum tenuifolium', 'Lyonia fruticosa', 'Ceratiola ericoides',\n",
       "       'Polygonella robusta', 'Ximenia americana', 'Polygonella robusta',\n",
       "       'Pityopsis graminifolia', 'Ximenia americana',\n",
       "       'Vaccinium myrsinites', 'Asclepias tuberosa', 'Quercus geminata',\n",
       "       'Serenoa repens', 'Palafoxia feayi', 'Sabal etonia',\n",
       "       'Quercus myrtifolia', 'Asclepias tuberosa', 'Yucca filamentosa',\n",
       "       'Asimina obovata', 'Lyonia fruticosa', 'Hypericum tenuifolium',\n",
       "       'Quercus geminata', 'Asclepias tuberosa', 'Pityopsis graminifolia',\n",
       "       'Ximenia americana', 'Ximenia americana', 'Lyonia ferruginea',\n",
       "       'Vaccinium myrsinites', 'Bejaria racemosa', 'Ceratiola ericoides',\n",
       "       'Licania michauxii', 'Serenoa repens', 'Lyonia ferruginea',\n",
       "       'Sabal etonia', 'Quercus inopina', 'Asclepias tuberosa',\n",
       "       'Commelina erecta', 'Quercus chapmanii', 'Serenoa repens',\n",
       "       'Chrysopsis floridana', 'Quercus geminata', 'Lyonia ferruginea',\n",
       "       'Lyonia fruticosa', 'Conradina grandiflora', 'Asclepias tuberosa',\n",
       "       'Opuntia humifusa', 'Quercus myrtifolia', 'Ceratiola ericoides',\n",
       "       'Quercus chapmanii', 'Lyonia fruticosa', 'Pinus clausa',\n",
       "       'Lyonia ferruginea', 'Lyonia ferruginea', 'Quercus geminata',\n",
       "       'Piloblephis rigida'], dtype='<U22')"
      ]
     },
     "execution_count": 14,
     "metadata": {},
     "output_type": "execute_result"
    }
   ],
   "source": [
    "knownScrubSpeciesObsSub"
   ]
  },
  {
   "cell_type": "code",
   "execution_count": 15,
   "metadata": {},
   "outputs": [],
   "source": [
    "knownScrubSpeciesObsHist = numpy.histogram(knownScrubSpeciesObsSub, bins=plants)"
   ]
  },
  {
   "cell_type": "code",
   "execution_count": 17,
   "metadata": {},
   "outputs": [
    {
     "name": "stdout",
     "output_type": "stream",
     "text": [
      "cluster_id, stat, p, dof, alpha, result\n",
      "1, 325.47486957486956, 8.512986392018349e-50, 33, 0.2, reject H0\n",
      "2, 334.6794844044844, 1.3116501514517456e-51, 33, 0.2, reject H0\n",
      "3, 250.4375152625153, 2.9766912045726127e-35, 33, 0.2, reject H0\n",
      "4, 1502.0213369963367, 5.0886544786953205e-295, 33, 0.2, reject H0\n",
      "5, 342.7192945942946, 3.394437967004731e-53, 33, 0.2, reject H0\n",
      "6, 231.93919136419137, 9.525096642485425e-32, 33, 0.2, reject H0\n",
      "7, 279.6875457875458, 7.236257384067044e-41, 33, 0.2, reject H0\n",
      "8, 312.4017343767344, 3.1246646166678903e-47, 33, 0.2, reject H0\n",
      "9, 338.24609557109557, 2.595583318905205e-52, 33, 0.2, reject H0\n",
      "10, 345.5241230991231, 9.467354595188875e-54, 33, 0.2, reject H0\n",
      "11, 349.83358308358305, 1.3284949545928818e-54, 33, 0.2, reject H0\n",
      "12, 351.99045676545677, 4.967308106789749e-55, 33, 0.2, reject H0\n"
     ]
    }
   ],
   "source": [
    "plantCommunitiesHist = {}\n",
    "alpha =  .2\n",
    "\n",
    "print(\"cluster_id, stat, p, dof, alpha, result\")\n",
    "\n",
    "for cluster_id in clusterIds:\n",
    "    plantCommunitiesHist[cluster_id] = numpy.histogram(plantCommunities_df.loc[plantCommunities_df['CLUSTER_ID']==cluster_id]['species'], \n",
    "                        bins=plants)\n",
    "   \n",
    "    dof = len(knownScrubSpeciesObsHist[0]) - 1 \n",
    "    stat, p = scipy.stats.chisquare(plantCommunitiesHist[cluster_id][0], knownScrubSpeciesObsHist[0])\n",
    "    \n",
    "    if p <= alpha:\n",
    "        result = 'reject H0'\n",
    "    else:\n",
    "        result = 'fail to reject H0'\n",
    "\n",
    "    print(\"%s, %s, %s, %s, %s, %s\" % (cluster_id, stat, p, dof, alpha, result))\n"
   ]
  },
  {
   "cell_type": "code",
   "execution_count": 246,
   "metadata": {},
   "outputs": [
    {
     "name": "stdout",
     "output_type": "stream",
     "text": [
      "(array([0, 0, 2, 3, 0, 0, 9, 0, 0, 0, 2, 0, 1, 2, 8, 0, 0, 0, 0, 0, 1, 0,\n",
      "       0, 2, 4, 0, 4, 1, 3, 0, 0, 3, 0, 0], dtype=int64), array(['Asclepias tuberosa', 'Asimina obovata', 'Balduina angustifolia',\n",
      "       'Bejaria racemosa', 'Cartrema floridana', 'Carya floridana',\n",
      "       'Ceratiola ericoides', 'Chrysopsis floridana', 'Commelina erecta',\n",
      "       'Conradina grandiflora', 'Dalea feayi', 'Hypericum tenuifolium',\n",
      "       'Ilex opaca', 'Licania michauxii', 'Lyonia ferruginea',\n",
      "       'Lyonia fruticosa', 'Opuntia humifusa', 'Palafoxia feayi',\n",
      "       'Persea humilis', 'Piloblephis rigida', 'Pinus clausa',\n",
      "       'Pityopsis graminifolia', 'Polygonella robusta',\n",
      "       'Quercus chapmanii', 'Quercus geminata', 'Quercus inopina',\n",
      "       'Quercus myrtifolia', 'Sabal etonia', 'Serenoa repens',\n",
      "       'Trichostema dichotomum', 'Vaccinium darrowii',\n",
      "       'Vaccinium myrsinites', 'Ximenia americana', 'Yucca filamentosa',\n",
      "       'Zamia integrifolia'], dtype='<U22'))\n",
      "(array([1, 2, 1, 0, 2, 2, 1, 0, 2, 0, 0, 0, 3, 0, 2, 3, 1, 5, 2, 0, 2, 0,\n",
      "       0, 1, 2, 0, 3, 1, 0, 0, 0, 0, 3, 0], dtype=int64), array(['Asclepias tuberosa', 'Asimina obovata', 'Balduina angustifolia',\n",
      "       'Bejaria racemosa', 'Cartrema floridana', 'Carya floridana',\n",
      "       'Ceratiola ericoides', 'Chrysopsis floridana', 'Commelina erecta',\n",
      "       'Conradina grandiflora', 'Dalea feayi', 'Hypericum tenuifolium',\n",
      "       'Ilex opaca', 'Licania michauxii', 'Lyonia ferruginea',\n",
      "       'Lyonia fruticosa', 'Opuntia humifusa', 'Palafoxia feayi',\n",
      "       'Persea humilis', 'Piloblephis rigida', 'Pinus clausa',\n",
      "       'Pityopsis graminifolia', 'Polygonella robusta',\n",
      "       'Quercus chapmanii', 'Quercus geminata', 'Quercus inopina',\n",
      "       'Quercus myrtifolia', 'Sabal etonia', 'Serenoa repens',\n",
      "       'Trichostema dichotomum', 'Vaccinium darrowii',\n",
      "       'Vaccinium myrsinites', 'Ximenia americana', 'Yucca filamentosa',\n",
      "       'Zamia integrifolia'], dtype='<U22'))\n",
      "(array([1, 3, 2, 7, 0, 4, 0, 0, 3, 0, 0, 3, 0, 1, 4, 5, 5, 6, 5, 0, 3, 3,\n",
      "       3, 5, 7, 5, 7, 2, 4, 0, 0, 4, 3, 2], dtype=int64), array(['Asclepias tuberosa', 'Asimina obovata', 'Balduina angustifolia',\n",
      "       'Bejaria racemosa', 'Cartrema floridana', 'Carya floridana',\n",
      "       'Ceratiola ericoides', 'Chrysopsis floridana', 'Commelina erecta',\n",
      "       'Conradina grandiflora', 'Dalea feayi', 'Hypericum tenuifolium',\n",
      "       'Ilex opaca', 'Licania michauxii', 'Lyonia ferruginea',\n",
      "       'Lyonia fruticosa', 'Opuntia humifusa', 'Palafoxia feayi',\n",
      "       'Persea humilis', 'Piloblephis rigida', 'Pinus clausa',\n",
      "       'Pityopsis graminifolia', 'Polygonella robusta',\n",
      "       'Quercus chapmanii', 'Quercus geminata', 'Quercus inopina',\n",
      "       'Quercus myrtifolia', 'Sabal etonia', 'Serenoa repens',\n",
      "       'Trichostema dichotomum', 'Vaccinium darrowii',\n",
      "       'Vaccinium myrsinites', 'Ximenia americana', 'Yucca filamentosa',\n",
      "       'Zamia integrifolia'], dtype='<U22'))\n",
      "(array([  0,   0,   0,  13,   0,   0,   0,   0,   0,   0,   0,   0,   0,\n",
      "         0,   1,   0,   0,   0,   0,  33,   1,   1,   0,   0,   0,   0,\n",
      "         0,   0, 194,   0,   0,   1,   0,   1], dtype=int64), array(['Asclepias tuberosa', 'Asimina obovata', 'Balduina angustifolia',\n",
      "       'Bejaria racemosa', 'Cartrema floridana', 'Carya floridana',\n",
      "       'Ceratiola ericoides', 'Chrysopsis floridana', 'Commelina erecta',\n",
      "       'Conradina grandiflora', 'Dalea feayi', 'Hypericum tenuifolium',\n",
      "       'Ilex opaca', 'Licania michauxii', 'Lyonia ferruginea',\n",
      "       'Lyonia fruticosa', 'Opuntia humifusa', 'Palafoxia feayi',\n",
      "       'Persea humilis', 'Piloblephis rigida', 'Pinus clausa',\n",
      "       'Pityopsis graminifolia', 'Polygonella robusta',\n",
      "       'Quercus chapmanii', 'Quercus geminata', 'Quercus inopina',\n",
      "       'Quercus myrtifolia', 'Sabal etonia', 'Serenoa repens',\n",
      "       'Trichostema dichotomum', 'Vaccinium darrowii',\n",
      "       'Vaccinium myrsinites', 'Ximenia americana', 'Yucca filamentosa',\n",
      "       'Zamia integrifolia'], dtype='<U22'))\n",
      "(array([0, 0, 1, 0, 0, 0, 0, 0, 0, 0, 0, 1, 0, 0, 4, 3, 3, 0, 0, 6, 0, 2,\n",
      "       0, 2, 1, 0, 2, 0, 5, 0, 3, 2, 0, 0], dtype=int64), array(['Asclepias tuberosa', 'Asimina obovata', 'Balduina angustifolia',\n",
      "       'Bejaria racemosa', 'Cartrema floridana', 'Carya floridana',\n",
      "       'Ceratiola ericoides', 'Chrysopsis floridana', 'Commelina erecta',\n",
      "       'Conradina grandiflora', 'Dalea feayi', 'Hypericum tenuifolium',\n",
      "       'Ilex opaca', 'Licania michauxii', 'Lyonia ferruginea',\n",
      "       'Lyonia fruticosa', 'Opuntia humifusa', 'Palafoxia feayi',\n",
      "       'Persea humilis', 'Piloblephis rigida', 'Pinus clausa',\n",
      "       'Pityopsis graminifolia', 'Polygonella robusta',\n",
      "       'Quercus chapmanii', 'Quercus geminata', 'Quercus inopina',\n",
      "       'Quercus myrtifolia', 'Sabal etonia', 'Serenoa repens',\n",
      "       'Trichostema dichotomum', 'Vaccinium darrowii',\n",
      "       'Vaccinium myrsinites', 'Ximenia americana', 'Yucca filamentosa',\n",
      "       'Zamia integrifolia'], dtype='<U22'))\n",
      "(array([ 3,  7, 16,  2,  0,  0,  0,  0,  8,  0,  1,  1,  0,  2,  0,  5, 16,\n",
      "        6,  0,  0,  3,  3,  4,  3,  9,  0,  7,  0, 18,  0,  3,  5,  1,  4],\n",
      "      dtype=int64), array(['Asclepias tuberosa', 'Asimina obovata', 'Balduina angustifolia',\n",
      "       'Bejaria racemosa', 'Cartrema floridana', 'Carya floridana',\n",
      "       'Ceratiola ericoides', 'Chrysopsis floridana', 'Commelina erecta',\n",
      "       'Conradina grandiflora', 'Dalea feayi', 'Hypericum tenuifolium',\n",
      "       'Ilex opaca', 'Licania michauxii', 'Lyonia ferruginea',\n",
      "       'Lyonia fruticosa', 'Opuntia humifusa', 'Palafoxia feayi',\n",
      "       'Persea humilis', 'Piloblephis rigida', 'Pinus clausa',\n",
      "       'Pityopsis graminifolia', 'Polygonella robusta',\n",
      "       'Quercus chapmanii', 'Quercus geminata', 'Quercus inopina',\n",
      "       'Quercus myrtifolia', 'Sabal etonia', 'Serenoa repens',\n",
      "       'Trichostema dichotomum', 'Vaccinium darrowii',\n",
      "       'Vaccinium myrsinites', 'Ximenia americana', 'Yucca filamentosa',\n",
      "       'Zamia integrifolia'], dtype='<U22'))\n",
      "(array([0, 2, 0, 0, 0, 6, 5, 0, 2, 0, 1, 1, 1, 0, 6, 2, 3, 8, 5, 1, 3, 0,\n",
      "       2, 4, 6, 3, 1, 2, 0, 0, 1, 4, 6, 0], dtype=int64), array(['Asclepias tuberosa', 'Asimina obovata', 'Balduina angustifolia',\n",
      "       'Bejaria racemosa', 'Cartrema floridana', 'Carya floridana',\n",
      "       'Ceratiola ericoides', 'Chrysopsis floridana', 'Commelina erecta',\n",
      "       'Conradina grandiflora', 'Dalea feayi', 'Hypericum tenuifolium',\n",
      "       'Ilex opaca', 'Licania michauxii', 'Lyonia ferruginea',\n",
      "       'Lyonia fruticosa', 'Opuntia humifusa', 'Palafoxia feayi',\n",
      "       'Persea humilis', 'Piloblephis rigida', 'Pinus clausa',\n",
      "       'Pityopsis graminifolia', 'Polygonella robusta',\n",
      "       'Quercus chapmanii', 'Quercus geminata', 'Quercus inopina',\n",
      "       'Quercus myrtifolia', 'Sabal etonia', 'Serenoa repens',\n",
      "       'Trichostema dichotomum', 'Vaccinium darrowii',\n",
      "       'Vaccinium myrsinites', 'Ximenia americana', 'Yucca filamentosa',\n",
      "       'Zamia integrifolia'], dtype='<U22'))\n",
      "(array([0, 0, 6, 4, 0, 0, 0, 0, 5, 0, 0, 2, 0, 1, 4, 2, 3, 0, 0, 5, 4, 8,\n",
      "       0, 1, 1, 0, 2, 0, 2, 0, 0, 2, 0, 2], dtype=int64), array(['Asclepias tuberosa', 'Asimina obovata', 'Balduina angustifolia',\n",
      "       'Bejaria racemosa', 'Cartrema floridana', 'Carya floridana',\n",
      "       'Ceratiola ericoides', 'Chrysopsis floridana', 'Commelina erecta',\n",
      "       'Conradina grandiflora', 'Dalea feayi', 'Hypericum tenuifolium',\n",
      "       'Ilex opaca', 'Licania michauxii', 'Lyonia ferruginea',\n",
      "       'Lyonia fruticosa', 'Opuntia humifusa', 'Palafoxia feayi',\n",
      "       'Persea humilis', 'Piloblephis rigida', 'Pinus clausa',\n",
      "       'Pityopsis graminifolia', 'Polygonella robusta',\n",
      "       'Quercus chapmanii', 'Quercus geminata', 'Quercus inopina',\n",
      "       'Quercus myrtifolia', 'Sabal etonia', 'Serenoa repens',\n",
      "       'Trichostema dichotomum', 'Vaccinium darrowii',\n",
      "       'Vaccinium myrsinites', 'Ximenia americana', 'Yucca filamentosa',\n",
      "       'Zamia integrifolia'], dtype='<U22'))\n",
      "(array([ 0,  2,  1,  2,  0,  0,  0,  0,  0,  0,  0,  6,  0,  4,  0,  1,  0,\n",
      "        0,  0,  0,  0,  4,  0,  0,  0,  0,  0,  0,  8,  0,  0, 14,  0,  3],\n",
      "      dtype=int64), array(['Asclepias tuberosa', 'Asimina obovata', 'Balduina angustifolia',\n",
      "       'Bejaria racemosa', 'Cartrema floridana', 'Carya floridana',\n",
      "       'Ceratiola ericoides', 'Chrysopsis floridana', 'Commelina erecta',\n",
      "       'Conradina grandiflora', 'Dalea feayi', 'Hypericum tenuifolium',\n",
      "       'Ilex opaca', 'Licania michauxii', 'Lyonia ferruginea',\n",
      "       'Lyonia fruticosa', 'Opuntia humifusa', 'Palafoxia feayi',\n",
      "       'Persea humilis', 'Piloblephis rigida', 'Pinus clausa',\n",
      "       'Pityopsis graminifolia', 'Polygonella robusta',\n",
      "       'Quercus chapmanii', 'Quercus geminata', 'Quercus inopina',\n",
      "       'Quercus myrtifolia', 'Sabal etonia', 'Serenoa repens',\n",
      "       'Trichostema dichotomum', 'Vaccinium darrowii',\n",
      "       'Vaccinium myrsinites', 'Ximenia americana', 'Yucca filamentosa',\n"
     ]
    },
    {
     "name": "stdout",
     "output_type": "stream",
     "text": [
      "       'Zamia integrifolia'], dtype='<U22'))\n",
      "(array([0, 1, 1, 0, 0, 0, 0, 0, 1, 0, 0, 1, 0, 2, 0, 3, 2, 0, 0, 0, 3, 0,\n",
      "       0, 1, 3, 0, 1, 0, 9, 0, 0, 3, 0, 1], dtype=int64), array(['Asclepias tuberosa', 'Asimina obovata', 'Balduina angustifolia',\n",
      "       'Bejaria racemosa', 'Cartrema floridana', 'Carya floridana',\n",
      "       'Ceratiola ericoides', 'Chrysopsis floridana', 'Commelina erecta',\n",
      "       'Conradina grandiflora', 'Dalea feayi', 'Hypericum tenuifolium',\n",
      "       'Ilex opaca', 'Licania michauxii', 'Lyonia ferruginea',\n",
      "       'Lyonia fruticosa', 'Opuntia humifusa', 'Palafoxia feayi',\n",
      "       'Persea humilis', 'Piloblephis rigida', 'Pinus clausa',\n",
      "       'Pityopsis graminifolia', 'Polygonella robusta',\n",
      "       'Quercus chapmanii', 'Quercus geminata', 'Quercus inopina',\n",
      "       'Quercus myrtifolia', 'Sabal etonia', 'Serenoa repens',\n",
      "       'Trichostema dichotomum', 'Vaccinium darrowii',\n",
      "       'Vaccinium myrsinites', 'Ximenia americana', 'Yucca filamentosa',\n",
      "       'Zamia integrifolia'], dtype='<U22'))\n",
      "(array([0, 0, 0, 1, 0, 0, 0, 0, 1, 0, 0, 2, 0, 1, 0, 1, 1, 5, 0, 6, 0, 0,\n",
      "       0, 1, 3, 0, 3, 0, 2, 0, 1, 1, 0, 1], dtype=int64), array(['Asclepias tuberosa', 'Asimina obovata', 'Balduina angustifolia',\n",
      "       'Bejaria racemosa', 'Cartrema floridana', 'Carya floridana',\n",
      "       'Ceratiola ericoides', 'Chrysopsis floridana', 'Commelina erecta',\n",
      "       'Conradina grandiflora', 'Dalea feayi', 'Hypericum tenuifolium',\n",
      "       'Ilex opaca', 'Licania michauxii', 'Lyonia ferruginea',\n",
      "       'Lyonia fruticosa', 'Opuntia humifusa', 'Palafoxia feayi',\n",
      "       'Persea humilis', 'Piloblephis rigida', 'Pinus clausa',\n",
      "       'Pityopsis graminifolia', 'Polygonella robusta',\n",
      "       'Quercus chapmanii', 'Quercus geminata', 'Quercus inopina',\n",
      "       'Quercus myrtifolia', 'Sabal etonia', 'Serenoa repens',\n",
      "       'Trichostema dichotomum', 'Vaccinium darrowii',\n",
      "       'Vaccinium myrsinites', 'Ximenia americana', 'Yucca filamentosa',\n",
      "       'Zamia integrifolia'], dtype='<U22'))\n",
      "(array([3, 1, 1, 0, 1, 0, 1, 0, 1, 0, 0, 0, 5, 0, 1, 0, 0, 2, 3, 0, 3, 1,\n",
      "       0, 2, 1, 0, 0, 1, 1, 0, 0, 0, 1, 2], dtype=int64), array(['Asclepias tuberosa', 'Asimina obovata', 'Balduina angustifolia',\n",
      "       'Bejaria racemosa', 'Cartrema floridana', 'Carya floridana',\n",
      "       'Ceratiola ericoides', 'Chrysopsis floridana', 'Commelina erecta',\n",
      "       'Conradina grandiflora', 'Dalea feayi', 'Hypericum tenuifolium',\n",
      "       'Ilex opaca', 'Licania michauxii', 'Lyonia ferruginea',\n",
      "       'Lyonia fruticosa', 'Opuntia humifusa', 'Palafoxia feayi',\n",
      "       'Persea humilis', 'Piloblephis rigida', 'Pinus clausa',\n",
      "       'Pityopsis graminifolia', 'Polygonella robusta',\n",
      "       'Quercus chapmanii', 'Quercus geminata', 'Quercus inopina',\n",
      "       'Quercus myrtifolia', 'Sabal etonia', 'Serenoa repens',\n",
      "       'Trichostema dichotomum', 'Vaccinium darrowii',\n",
      "       'Vaccinium myrsinites', 'Ximenia americana', 'Yucca filamentosa',\n",
      "       'Zamia integrifolia'], dtype='<U22'))\n"
     ]
    }
   ],
   "source": [
    "for cluster_id in clusterIds:\n",
    "    print(plantCommunitiesHist[cluster_id])"
   ]
  },
  {
   "cell_type": "code",
   "execution_count": null,
   "metadata": {},
   "outputs": [],
   "source": []
  }
 ],
 "metadata": {
  "kernelspec": {
   "display_name": "ArcGISPro",
   "language": "Python",
   "name": "python3"
  },
  "language_info": {
   "file_extension": ".py",
   "name": "python",
   "version": "3"
  }
 },
 "nbformat": 4,
 "nbformat_minor": 2
}
