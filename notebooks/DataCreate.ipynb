{
 "cells": [
  {
   "cell_type": "code",
   "execution_count": null,
   "metadata": {},
   "outputs": [],
   "source": [
    "#Code for FL_Zone_9a_9b_Scrub_Incursion_Restoratoin Project \n",
    "#Data Setup\n",
    "#GEOG561\n",
    "#Mike Karasoff\n",
    "\n",
    "import arcpy\n",
    "import numpy as np\n",
    "DBPATH=r\"C:\\Users\\mike\\Documents\\OSU\\GEOG561\\Project - Florida Scrub Zone\\FL_Zone_9a_9b_Scrub_Incursion_Restoration\\FL_Zone_9a_9b_Scrub_Incursion_Restoration.gdb\"\n",
    "DATA_PATH=r\"C:\\Users\\mike\\Documents\\OSU\\GEOG561\\Project - Florida Scrub Zone\\Data\"\n",
    "\n",
    "arcpy.env.workspace=DBPATH\n",
    "\n",
    "\n"
   ]
  },
  {
   "cell_type": "code",
   "execution_count": null,
   "metadata": {},
   "outputs": [],
   "source": [
    "#Create a feature set from the community plants in zone9\n",
    "\n",
    "#Start with the community plant data\n",
    "arcpy.management.XYTableToPoint(\"scrubCommunityPlants.csv\", \"csScrubCommunityPlants\", \"decimalLongitude\", \"decimalLatitude\")"
   ]
  },
  {
   "cell_type": "code",
   "execution_count": null,
   "metadata": {},
   "outputs": [],
   "source": [
    "#Pare down the table.  Lots of unused fields\n",
    "FIELDS_TO_KEEP=['OBJECTID', 'Shape', 'gbifID', 'coordinateUncertaintyInMeters', \n",
    "                'decimalLongitude', 'decimalLatitude', 'species', 'elevation']\n",
    "fields = [f.name for f in arcpy.ListFields('csScrubCommunityPlants')]\n",
    "fieldsRemove = set(fields.copy())\n",
    "fieldsRemove = fieldsRemove - set(FIELDS_TO_KEEP)\n",
    "\n",
    "cursor = arcpy.da.SearchCursor('csScrubCommunityPlants', fields)\n",
    "for row in cursor:\n",
    "    for i in range(len(fields)):\n",
    "        if row[i] is not None:\n",
    "            fieldsRemove = fieldsRemove - set((fields[i],))\n",
    "            \n",
    "print(\"Fields to remove:\", fieldsRemove)\n",
    "arcpy.management.DeleteField('csScrubCommunityPlants', list(fieldsRemove))"
   ]
  },
  {
   "cell_type": "code",
   "execution_count": null,
   "metadata": {},
   "outputs": [],
   "source": [
    "#Combine zone 9a and zone 9b to make \"zone 9\"\n",
    "zone9_sel = arcpy.management.SelectLayerByAttribute(\n",
    "    r\"C:\\Users\\mike\\Documents\\OSU\\GEOG561\\Project - Florida Scrub Zone\\Data\\USDA_Zones\\phm_us_shp.shp\",  \n",
    "    where_clause = \"ZONE = '9a: 20 to 25 F' Or ZONE = '9b: 25 to 30 F'\")\n",
    "\n",
    "#We will want to enumerate the plant types for further analysis\n",
    "plants_enum = {}\n",
    "\n",
    "arcpy.management.CopyFeatures(zone9_sel, 'zone9')"
   ]
  },
  {
   "cell_type": "code",
   "execution_count": null,
   "metadata": {},
   "outputs": [],
   "source": [
    "#Select plants in zone 9\n",
    "csScrubPlantsZone9_sel=arcpy.management.SelectLayerByLocation(\"csScrubCommunityPlants\", \n",
    "                                                                     \"INTERSECT\", \n",
    "                                                                     \"zone9\", \"\", \n",
    "                                                                     \"NEW_SELECTION\")\n",
    "\n",
    "#Filter points with large or <Null> uncertainty \n",
    "csScrubPlantsZone9 = arcpy.management.MakeFeatureLayer(csScrubPlantsZone9_sel, \n",
    "                    \"csScrubPlantsZone9\", \n",
    "                    where_clause = \"coordinateUncertaintyInMeters < 150 Or coordinateUncertaintyInMeters IS NULL\") \n",
    "\n",
    "arcpy.management.CopyFeatures(csScrubPlantsZone9, 'csScrubPlantsZone9')"
   ]
  },
  {
   "cell_type": "code",
   "execution_count": null,
   "metadata": {},
   "outputs": [],
   "source": [
    "#Cluster Point Data as Communities\n",
    "# This must set the output Spatial Reference. \n",
    "# The factory code for NAD_1983_2011_StatePlane_Florida_East_FIPS_0901 is 6437.\n",
    "with arcpy.EnvManager(outputCoordinateSystem=arcpy.SpatialReference(6437)):\n",
    "    arcpy.gapro.FindPointClusters(csScrubPlantsZone9, \n",
    "                                  \"csScrubPlantsZone9Clusters\", \n",
    "                                  \"DBSCAN\", 30, \"600 Meters\")\n",
    "    \n",
    "#Remove points that were classified \"noise\" by cluster\n",
    "csScrubPlantsZone9Communities = arcpy.management.SelectLayerByAttribute(\"csScrubPlantsZone9Clusters\", \n",
    "                                             where_clause = \"CLUSTER_ID <> -1\")\n",
    "arcpy.management.CopyFeatures(csScrubPlantsZone9Communities, \"csScrubPlantsZone9Communities\")\n",
    "arcpy.management.Delete(\"csScrubPlantsZone9Clusters\")\n"
   ]
  },
  {
   "cell_type": "code",
   "execution_count": null,
   "metadata": {},
   "outputs": [],
   "source": [
    "#Create Polygons from the point clusters to estimate areas\n",
    "with arcpy.EnvManager(outputCoordinateSystem=arcpy.SpatialReference(6437)):\n",
    "    arcpy.management.MinimumBoundingGeometry(\"csScrubPlantsZone9Communities\", \n",
    "                                             \"csScrubPlantsZone9Communities_poly\", \n",
    "                                             \"CONVEX_HULL\", \"LIST\", \"CLUSTER_ID\", \"MBG_FIELDS\")"
   ]
  },
  {
   "cell_type": "code",
   "execution_count": null,
   "metadata": {},
   "outputs": [],
   "source": [
    "#Get known zone9 scrub lands from CLC\n",
    "\n",
    "arcpy.management.MakeFeatureLayer(\n",
    "    r\"C:\\Users\\mike\\Documents\\OSU\\GEOG561\\Project - Florida Scrub Zone\\Data\\FL_Classified_Land_Cover.gdb\\CLC_v3_4_poly\", \n",
    "    \"knownScrub\", \"NAME_SITE = 'Scrub'\", None)\n",
    "\n",
    "knownScrubZone9=arcpy.management.SelectLayerByLocation(\"knownScrub\", \n",
    "                                                        \"INTERSECT\", \n",
    "                                                        \"zone9\", \"\", \n",
    "                                                        \"NEW_SELECTION\")\n",
    "\n",
    "\n",
    "arcpy.management.CopyFeatures('knownScrub', 'knownScrub')\n",
    "arcpy.management.CopyFeatures(knownScrubZone9, 'knownScrubZone9')\n",
    "\n",
    "arcpy.management.Delete('knownScrub')\n",
    "arcpy.management.Delete('knownScrub')\n"
   ]
  },
  {
   "cell_type": "code",
   "execution_count": null,
   "metadata": {},
   "outputs": [],
   "source": [
    "#Get CS observations from known zone9 scrub lands from CLC\n",
    "\n",
    "csKnownScrubZone9=arcpy.management.SelectLayerByLocation(csScrubPlantsZone9, \n",
    "                                                        \"INTERSECT\", \n",
    "                                                        knownScrubZone9, \n",
    "                                                        \"250 Meters\", \n",
    "                                                        \"NEW_SELECTION\")\n",
    "\n",
    "arcpy.management.CopyFeatures(csKnownScrubZone9, 'csKnownScrubZone9')\n"
   ]
  },
  {
   "cell_type": "code",
   "execution_count": null,
   "metadata": {},
   "outputs": [],
   "source": [
    "with arcpy.EnvManager(outputCoordinateSystem=\"PROJCS['Albers Conical Equal Area [Florida Geographic Data Library]',GEOGCS['GCS_North_American_1983_HARN',DATUM['D_North_American_1983_HARN',SPHEROID['GRS_1980',6378137.0,298.257222101]],PRIMEM['Greenwich',0.0],UNIT['Degree',0.0174532925199433]],PROJECTION['Albers'],PARAMETER['False_Easting',400000.0],PARAMETER['False_Northing',0.0],PARAMETER['Central_Meridian',-84.0],PARAMETER['Standard_Parallel_1',24.0],PARAMETER['Standard_Parallel_2',31.5],PARAMETER['Central_Parallel',24.0],UNIT['Meter',1.0]]\", rasterStatistics=\"NONE\", snapRaster=\"rfExtentRaster\", parallelProcessingFactor=\"75%\", pyramid=\"NONE\", \n",
    "                      extent=\"112328.6536 334500.8659 697135.871199999 733658.6742\", nodata=\"MAP_UP\", cellSize=r\"C:\\Users\\mike\\Documents\\OSU\\GEOG561\\Project - Florida Scrub Zone\\FL_Zone_9a_9b_Scrub_Incursion_Restoration\\FL_Zone_9a_9b_Scrub_Incursion_Restoration.gdb\\rfExtentRaster\", geographicTransformations=None):\n",
    "    arcpy.management.CopyRaster(\"wetlands_v44\", r\"C:\\Users\\mike\\Documents\\OSU\\GEOG561\\Project - Florida Scrub Zone\\FL_Zone_9a_9b_Scrub_Incursion_Restoration\\FL_Zone_9a_9b_Scrub_Incursion_Restoration.gdb\\wetlands\", '', None, \"15\", \"NONE\", \"NONE\", \"4_BIT\", \"NONE\", \"NONE\", \"JPEG\", \"NONE\", \"CURRENT_SLICE\", \"NO_TRANSPOSE\")"
   ]
  }
 ],
 "metadata": {
  "kernelspec": {
   "display_name": "ArcGISPro",
   "language": "Python",
   "name": "python3"
  },
  "language_info": {
   "file_extension": ".py",
   "name": "python",
   "version": "3"
  }
 },
 "nbformat": 4,
 "nbformat_minor": 2
}
